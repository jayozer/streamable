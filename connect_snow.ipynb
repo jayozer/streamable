{
 "cells": [
  {
   "attachments": {},
   "cell_type": "markdown",
   "metadata": {},
   "source": [
    "# Using snowflake-connector-python"
   ]
  },
  {
   "cell_type": "code",
   "execution_count": 19,
   "metadata": {},
   "outputs": [
    {
     "name": "stdout",
     "output_type": "stream",
     "text": [
      "Connection successfull.\n"
     ]
    }
   ],
   "source": [
    "import snowflake.connector\n",
    "import os\n",
    "import pandas as pd\n",
    "\n",
    "from dotenv import load_dotenv\n",
    "load_dotenv()\n",
    "\n",
    "# Create a Snowflake connection object\n",
    "try:\n",
    "    conn = snowflake.connector.connect(user=os.getenv('SNOWFLAKE_USER'),\n",
    "                                       password=os.getenv('SNOWFLAKE_PASSWORD'),   \n",
    "                                       account=os.getenv('SNOWFLAKE_ACCOUNT'),\n",
    "                                        database=os.getenv('SNOWFLAKE_DATABASE'),\n",
    "                                        warehouse=os.getenv('SNOWFLAKE_WAREHOUSE'),\n",
    "                                        schema=os.getenv('SNOWFLAKE_SCHEMA'),\n",
    "                                        table=os.getenv('SNOWFLAKE_TABLE')\n",
    "    )\n",
    "    print(\"Connection successfull.\")\n",
    "  \n",
    "except Exception as e:\n",
    "    print(\"Connection failed. Reason:\", e)"
   ]
  },
  {
   "cell_type": "code",
   "execution_count": 20,
   "metadata": {},
   "outputs": [
    {
     "name": "stdout",
     "output_type": "stream",
     "text": [
      "EMPLOYEE_JOB_FUNCTIONS\n"
     ]
    }
   ],
   "source": [
    "\n",
    "print(os.getenv('SNOWFLAKE_TABLE'))"
   ]
  },
  {
   "attachments": {},
   "cell_type": "markdown",
   "metadata": {},
   "source": [
    "# Using SqlAlchemy"
   ]
  },
  {
   "cell_type": "code",
   "execution_count": 40,
   "metadata": {},
   "outputs": [
    {
     "name": "stdout",
     "output_type": "stream",
     "text": [
      "[('john.doe@musik.com', '12345', 'Closing'), ('jane.doe@musik.com', '67890', 'Policy'), ('mark.smith@musik.com', '13579', 'Recording'), ('sarah.lee@musik.com', '24680', 'Title & Curative'), ('mike.johnson@musik.com', '97531', 'Policy')]\n"
     ]
    }
   ],
   "source": [
    "from sqlalchemy import create_engine\n",
    "import os\n",
    "\n",
    "from dotenv import load_dotenv\n",
    "\n",
    "load_dotenv()\n",
    "# see all the deprecation warnings\n",
    "os.environ[\"SQLALCHEMY_WARN_20\"] = \"1\"\n",
    "\n",
    "\n",
    "user=os.getenv('SNOWFLAKE_USER')\n",
    "password=os.getenv('SNOWFLAKE_PASSWORD') \n",
    "account=os.getenv('SNOWFLAKE_ACCOUNT')\n",
    "database=os.getenv('SNOWFLAKE_DATABASE')\n",
    "warehouse=os.getenv('SNOWFLAKE_WAREHOUSE')\n",
    "schema=os.getenv('SNOWFLAKE_SCHEMA')\n",
    "table=os.getenv('SNOWFLAKE_TABLE')\n",
    "role=os.getenv('SNOWFLAKE_ROLE')\n",
    "\n",
    "engine = create_engine(\n",
    "    'snowflake://{user}:{password}@{account_identifier}/?role={role}&warehouse={warehouse}'.format(\n",
    "        user=user,\n",
    "        password=password,\n",
    "        account_identifier=account,\n",
    "        role=role,\n",
    "        warehouse=warehouse\n",
    "    )\n",
    ")\n",
    "\n",
    "try:\n",
    "    connection = engine.connect()\n",
    "    results = connection.execute('select * from DEMO_DB.STREAMABLE.EMPLOYEE_JOB_FUNCTIONS').fetchall()\n",
    "    print(results)\n",
    "finally:\n",
    "    connection.close()\n",
    "    engine.dispose()"
   ]
  },
  {
   "cell_type": "code",
   "execution_count": 42,
   "metadata": {},
   "outputs": [
    {
     "name": "stdout",
     "output_type": "stream",
     "text": [
      "              employee_email employee_id job_function_name\n",
      "0     john.doe@musicprod.com     1234567  Title & Curative\n",
      "1   jane.smith@musicprod.com     2345678            Policy\n",
      "2   david.wong@musicprod.com     3456789         Recording\n",
      "3  sarah.jones@musicprod.com     4567890   Document Intake\n",
      "4  alex.garcia@musicprod.com     5678901           Closing\n"
     ]
    }
   ],
   "source": [
    "# Add the table to the database\n",
    "data_enterprise = [\n",
    "        ['john.doe@musicprod.com', 1234567, 'Title & Curative'],        \n",
    "        ['jane.smith@musicprod.com', 2345678, 'Policy'],\n",
    "        ['david.wong@musicprod.com', 3456789, 'Recording'],\n",
    "        ['sarah.jones@musicprod.com', 4567890, 'Document Intake'],\n",
    "        ['alex.garcia@musicprod.com', 5678901, 'Closing']\n",
    "    ]\n",
    "\n",
    "    # create a pandas DataFrame with the specified column names\n",
    "df = pd.DataFrame(data_enterprise, columns=['employee_email', 'employee_id', 'job_function_name']) \n",
    "    # convert all columns to str\n",
    "df.employee_id = df.employee_id.astype(str) \n",
    "df.employee_email = df.employee_email.astype(str)  \n",
    "df.job_function_name = df.job_function_name.astype(\"category\")\n",
    "df.job_function_name = df.job_function_name.cat.add_categories((\"Compliance\", \"Scheduling\", \"Concierge\", \"Funding\", \"Post Closing\"))\n",
    "print(df)"
   ]
  },
  {
   "cell_type": "code",
   "execution_count": 45,
   "metadata": {},
   "outputs": [
    {
     "name": "stderr",
     "output_type": "stream",
     "text": [
      "/var/folders/jb/d9kkhgds2_sgd7vj5m5kpw5m0000gq/T/ipykernel_56004/3115976397.py:39: UserWarning: The provided table name 'EMPLOYEE_JOB_FUNCTIONS' is not found exactly as such in the database after writing the table, possibly due to case sensitivity issues. Consider using lower case table names.\n",
      "  df.to_sql(table_name, engine, schema=schema_name, if_exists='append', index=False)\n"
     ]
    }
   ],
   "source": [
    "from snowflake.connector.pandas_tools import pd_writer\n",
    "import pandas as pd\n",
    "from sqlalchemy import create_engine\n",
    "\n",
    "from dotenv import load_dotenv\n",
    "\n",
    "load_dotenv()\n",
    "# see all the deprecation warnings\n",
    "os.environ[\"SQLALCHEMY_WARN_20\"] = \"1\"\n",
    "\n",
    "\n",
    "user=os.getenv('SNOWFLAKE_USER')\n",
    "password=os.getenv('SNOWFLAKE_PASSWORD') \n",
    "account=os.getenv('SNOWFLAKE_ACCOUNT')\n",
    "database=os.getenv('SNOWFLAKE_DATABASE')\n",
    "warehouse=os.getenv('SNOWFLAKE_WAREHOUSE')\n",
    "schema=os.getenv('SNOWFLAKE_SCHEMA')\n",
    "table=os.getenv('SNOWFLAKE_TABLE')\n",
    "role=os.getenv('SNOWFLAKE_ROLE')\n",
    "\n",
    "\n",
    "def load_dataframe_to_snowflake_table(df, table_name, schema_name, usr, pwd, acct, warehouse, database_name):\n",
    "    # create the Snowflake engine using SQLAlchemy\n",
    "    engine = create_engine(\n",
    "    'snowflake://{user}:{password}@{account_identifier}/?role={role}&warehouse={warehouse}'.format(\n",
    "        user=user,\n",
    "        password=password,\n",
    "        account_identifier=account,\n",
    "        role=role,\n",
    "        warehouse=warehouse\n",
    "    )\n",
    ")\n",
    "\n",
    "    # truncate the table in Snowflake using SQL\n",
    "    with engine.begin() as conn:\n",
    "        conn.execute(f'TRUNCATE TABLE {schema}.{table}')\n",
    "\n",
    "    # use pandas DataFrame's to_sql method to insert the data into Snowflake table\n",
    "    df.to_sql(table_name, engine, schema=schema_name, if_exists='append', index=False)\n",
    "\n",
    "\n",
    "#Call the function\n",
    "\n",
    "load_dataframe_to_snowflake_table(df, table, schema, user, password, account, warehouse, database)"
   ]
  },
  {
   "cell_type": "code",
   "execution_count": 1,
   "metadata": {},
   "outputs": [
    {
     "ename": "NameError",
     "evalue": "name 'os' is not defined",
     "output_type": "error",
     "traceback": [
      "\u001b[0;31m---------------------------------------------------------------------------\u001b[0m",
      "\u001b[0;31mNameError\u001b[0m                                 Traceback (most recent call last)",
      "Cell \u001b[0;32mIn[1], line 9\u001b[0m\n\u001b[1;32m      7\u001b[0m load_dotenv()\n\u001b[1;32m      8\u001b[0m \u001b[39m# see all the deprecation warnings\u001b[39;00m\n\u001b[0;32m----> 9\u001b[0m os\u001b[39m.\u001b[39menviron[\u001b[39m\"\u001b[39m\u001b[39mSQLALCHEMY_WARN_20\u001b[39m\u001b[39m\"\u001b[39m] \u001b[39m=\u001b[39m \u001b[39m\"\u001b[39m\u001b[39m1\u001b[39m\u001b[39m\"\u001b[39m\n\u001b[1;32m     12\u001b[0m user\u001b[39m=\u001b[39mos\u001b[39m.\u001b[39mgetenv(\u001b[39m'\u001b[39m\u001b[39mSNOWFLAKE_USER\u001b[39m\u001b[39m'\u001b[39m)\n\u001b[1;32m     13\u001b[0m password\u001b[39m=\u001b[39mos\u001b[39m.\u001b[39mgetenv(\u001b[39m'\u001b[39m\u001b[39mSNOWFLAKE_PASSWORD\u001b[39m\u001b[39m'\u001b[39m) \n",
      "\u001b[0;31mNameError\u001b[0m: name 'os' is not defined"
     ]
    }
   ],
   "source": [
    "from snowflake.connector.pandas_tools import pd_writer\n",
    "import pandas as pd\n",
    "from sqlalchemy import create_engine\n",
    "\n",
    "from dotenv import load_dotenv\n",
    "\n",
    "load_dotenv()\n",
    "# see all the deprecation warnings\n",
    "os.environ[\"SQLALCHEMY_WARN_20\"] = \"1\"\n",
    "\n",
    "\n",
    "user=os.getenv('SNOWFLAKE_USER')\n",
    "password=os.getenv('SNOWFLAKE_PASSWORD') \n",
    "account=os.getenv('SNOWFLAKE_ACCOUNT')\n",
    "database=os.getenv('SNOWFLAKE_DATABASE')\n",
    "warehouse=os.getenv('SNOWFLAKE_WAREHOUSE')\n",
    "schema=os.getenv('SNOWFLAKE_SCHEMA')\n",
    "table=os.getenv('SNOWFLAKE_TABLE')\n",
    "role=os.getenv('SNOWFLAKE_ROLE')\n",
    "\n",
    "\n",
    "def load_dataframe_to_snowflake_table(df, table_name, schema_name, usr, pwd, acct, warehouse, database_name):\n",
    "    # create the Snowflake engine using SQLAlchemy\n",
    "    engine = create_engine(\n",
    "    'snowflake://{user}:{password}@{account_identifier}/?role={role}&warehouse={warehouse}'.format(\n",
    "        user=user,\n",
    "        password=password,\n",
    "        account_identifier=account,\n",
    "        role=role,\n",
    "        warehouse=warehouse\n",
    "    )\n",
    ")\n",
    "\n",
    "    # truncate the table in Snowflake using SQL\n",
    "    with engine.begin() as conn:\n",
    "        conn.execute(f'TRUNCATE TABLE {schema}.{table}')\n",
    "\n",
    "    # use pandas DataFrame's to_sql method to insert the data into Snowflake table\n",
    "    df.to_sql(table_name, engine, schema=schema_name, if_exists='append', index=False)\n",
    "\n",
    "\n",
    "#Call the function\n",
    "\n",
    "load_dataframe_to_snowflake_table(df, table, schema, user, password, account, warehouse, database)"
   ]
  }
 ],
 "metadata": {
  "kernelspec": {
   "display_name": "env_streamable-1",
   "language": "python",
   "name": "python3"
  },
  "language_info": {
   "codemirror_mode": {
    "name": "ipython",
    "version": 3
   },
   "file_extension": ".py",
   "mimetype": "text/x-python",
   "name": "python",
   "nbconvert_exporter": "python",
   "pygments_lexer": "ipython3",
   "version": "3.10.4"
  },
  "orig_nbformat": 4
 },
 "nbformat": 4,
 "nbformat_minor": 2
}
